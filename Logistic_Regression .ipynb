{
 "cells": [
  {
   "cell_type": "code",
   "execution_count": 1,
   "metadata": {},
   "outputs": [],
   "source": [
    "import pandas as pd\n",
    "import numpy as np\n",
    "import matplotlib.pyplot as plt\n",
    "import seaborn as sns\n",
    "from pandas import Series, DataFrame\n",
    "import seaborn as sns"
   ]
  },
  {
   "cell_type": "code",
   "execution_count": 2,
   "metadata": {},
   "outputs": [],
   "source": [
    "import os"
   ]
  },
  {
   "cell_type": "code",
   "execution_count": 3,
   "metadata": {},
   "outputs": [],
   "source": [
    "os.chdir('C:\\\\Users\\\\krish\\\\Downloads\\\\Jupyter Losse files\\\\Casestudy1')"
   ]
  },
  {
   "cell_type": "code",
   "execution_count": 4,
   "metadata": {},
   "outputs": [],
   "source": [
    "data= pd.read_csv(\"dm.csv\")"
   ]
  },
  {
   "cell_type": "code",
   "execution_count": 5,
   "metadata": {},
   "outputs": [
    {
     "data": {
      "text/html": [
       "<div>\n",
       "<style scoped>\n",
       "    .dataframe tbody tr th:only-of-type {\n",
       "        vertical-align: middle;\n",
       "    }\n",
       "\n",
       "    .dataframe tbody tr th {\n",
       "        vertical-align: top;\n",
       "    }\n",
       "\n",
       "    .dataframe thead th {\n",
       "        text-align: right;\n",
       "    }\n",
       "</style>\n",
       "<table border=\"1\" class=\"dataframe\">\n",
       "  <thead>\n",
       "    <tr style=\"text-align: right;\">\n",
       "      <th></th>\n",
       "      <th>Age</th>\n",
       "      <th>Gender</th>\n",
       "      <th>OwnHome</th>\n",
       "      <th>Married</th>\n",
       "      <th>Location</th>\n",
       "      <th>Salary</th>\n",
       "      <th>Children</th>\n",
       "      <th>History</th>\n",
       "      <th>Catalogs</th>\n",
       "      <th>AmountSpent</th>\n",
       "      <th>Cust_Id</th>\n",
       "    </tr>\n",
       "  </thead>\n",
       "  <tbody>\n",
       "    <tr>\n",
       "      <th>0</th>\n",
       "      <td>Old</td>\n",
       "      <td>Female</td>\n",
       "      <td>Own</td>\n",
       "      <td>Single</td>\n",
       "      <td>Far</td>\n",
       "      <td>47500</td>\n",
       "      <td>0</td>\n",
       "      <td>High</td>\n",
       "      <td>6</td>\n",
       "      <td>755</td>\n",
       "      <td>247</td>\n",
       "    </tr>\n",
       "    <tr>\n",
       "      <th>1</th>\n",
       "      <td>Middle</td>\n",
       "      <td>Male</td>\n",
       "      <td>Rent</td>\n",
       "      <td>Single</td>\n",
       "      <td>Close</td>\n",
       "      <td>63600</td>\n",
       "      <td>0</td>\n",
       "      <td>High</td>\n",
       "      <td>6</td>\n",
       "      <td>1318</td>\n",
       "      <td>127</td>\n",
       "    </tr>\n",
       "    <tr>\n",
       "      <th>2</th>\n",
       "      <td>Young</td>\n",
       "      <td>Female</td>\n",
       "      <td>Rent</td>\n",
       "      <td>Single</td>\n",
       "      <td>Close</td>\n",
       "      <td>13500</td>\n",
       "      <td>0</td>\n",
       "      <td>Low</td>\n",
       "      <td>18</td>\n",
       "      <td>296</td>\n",
       "      <td>479</td>\n",
       "    </tr>\n",
       "    <tr>\n",
       "      <th>3</th>\n",
       "      <td>Middle</td>\n",
       "      <td>Male</td>\n",
       "      <td>Own</td>\n",
       "      <td>Married</td>\n",
       "      <td>Close</td>\n",
       "      <td>85600</td>\n",
       "      <td>1</td>\n",
       "      <td>High</td>\n",
       "      <td>18</td>\n",
       "      <td>2436</td>\n",
       "      <td>475</td>\n",
       "    </tr>\n",
       "    <tr>\n",
       "      <th>4</th>\n",
       "      <td>Middle</td>\n",
       "      <td>Female</td>\n",
       "      <td>Own</td>\n",
       "      <td>Single</td>\n",
       "      <td>Close</td>\n",
       "      <td>68400</td>\n",
       "      <td>0</td>\n",
       "      <td>High</td>\n",
       "      <td>12</td>\n",
       "      <td>1304</td>\n",
       "      <td>151</td>\n",
       "    </tr>\n",
       "  </tbody>\n",
       "</table>\n",
       "</div>"
      ],
      "text/plain": [
       "      Age  Gender OwnHome  Married Location  Salary  Children History  \\\n",
       "0     Old  Female     Own   Single      Far   47500         0    High   \n",
       "1  Middle    Male    Rent   Single    Close   63600         0    High   \n",
       "2   Young  Female    Rent   Single    Close   13500         0     Low   \n",
       "3  Middle    Male     Own  Married    Close   85600         1    High   \n",
       "4  Middle  Female     Own   Single    Close   68400         0    High   \n",
       "\n",
       "   Catalogs  AmountSpent  Cust_Id  \n",
       "0         6          755      247  \n",
       "1         6         1318      127  \n",
       "2        18          296      479  \n",
       "3        18         2436      475  \n",
       "4        12         1304      151  "
      ]
     },
     "execution_count": 5,
     "metadata": {},
     "output_type": "execute_result"
    }
   ],
   "source": [
    "data.head()"
   ]
  },
  {
   "cell_type": "code",
   "execution_count": 6,
   "metadata": {},
   "outputs": [
    {
     "data": {
      "text/plain": [
       "Age              0\n",
       "Gender           0\n",
       "OwnHome          0\n",
       "Married          0\n",
       "Location         0\n",
       "Salary           0\n",
       "Children         0\n",
       "History        303\n",
       "Catalogs         0\n",
       "AmountSpent      0\n",
       "Cust_Id          0\n",
       "dtype: int64"
      ]
     },
     "execution_count": 6,
     "metadata": {},
     "output_type": "execute_result"
    }
   ],
   "source": [
    "data.isnull().sum()"
   ]
  },
  {
   "cell_type": "code",
   "execution_count": 7,
   "metadata": {},
   "outputs": [
    {
     "data": {
      "text/html": [
       "<div>\n",
       "<style scoped>\n",
       "    .dataframe tbody tr th:only-of-type {\n",
       "        vertical-align: middle;\n",
       "    }\n",
       "\n",
       "    .dataframe tbody tr th {\n",
       "        vertical-align: top;\n",
       "    }\n",
       "\n",
       "    .dataframe thead th {\n",
       "        text-align: right;\n",
       "    }\n",
       "</style>\n",
       "<table border=\"1\" class=\"dataframe\">\n",
       "  <thead>\n",
       "    <tr style=\"text-align: right;\">\n",
       "      <th></th>\n",
       "      <th>Salary</th>\n",
       "      <th>Children</th>\n",
       "      <th>Catalogs</th>\n",
       "      <th>AmountSpent</th>\n",
       "      <th>Cust_Id</th>\n",
       "    </tr>\n",
       "  </thead>\n",
       "  <tbody>\n",
       "    <tr>\n",
       "      <th>count</th>\n",
       "      <td>1000.000000</td>\n",
       "      <td>1000.00000</td>\n",
       "      <td>1000.000000</td>\n",
       "      <td>1000.000000</td>\n",
       "      <td>1000.000000</td>\n",
       "    </tr>\n",
       "    <tr>\n",
       "      <th>mean</th>\n",
       "      <td>56103.900000</td>\n",
       "      <td>0.93400</td>\n",
       "      <td>14.682000</td>\n",
       "      <td>1216.770000</td>\n",
       "      <td>643.930000</td>\n",
       "    </tr>\n",
       "    <tr>\n",
       "      <th>std</th>\n",
       "      <td>30616.314826</td>\n",
       "      <td>1.05107</td>\n",
       "      <td>6.622895</td>\n",
       "      <td>961.068613</td>\n",
       "      <td>369.047166</td>\n",
       "    </tr>\n",
       "    <tr>\n",
       "      <th>min</th>\n",
       "      <td>10100.000000</td>\n",
       "      <td>0.00000</td>\n",
       "      <td>6.000000</td>\n",
       "      <td>38.000000</td>\n",
       "      <td>12.000000</td>\n",
       "    </tr>\n",
       "    <tr>\n",
       "      <th>25%</th>\n",
       "      <td>29975.000000</td>\n",
       "      <td>0.00000</td>\n",
       "      <td>6.000000</td>\n",
       "      <td>488.250000</td>\n",
       "      <td>316.750000</td>\n",
       "    </tr>\n",
       "    <tr>\n",
       "      <th>50%</th>\n",
       "      <td>53700.000000</td>\n",
       "      <td>1.00000</td>\n",
       "      <td>12.000000</td>\n",
       "      <td>962.000000</td>\n",
       "      <td>636.000000</td>\n",
       "    </tr>\n",
       "    <tr>\n",
       "      <th>75%</th>\n",
       "      <td>77025.000000</td>\n",
       "      <td>2.00000</td>\n",
       "      <td>18.000000</td>\n",
       "      <td>1688.500000</td>\n",
       "      <td>955.500000</td>\n",
       "    </tr>\n",
       "    <tr>\n",
       "      <th>max</th>\n",
       "      <td>168800.000000</td>\n",
       "      <td>3.00000</td>\n",
       "      <td>24.000000</td>\n",
       "      <td>6217.000000</td>\n",
       "      <td>1297.000000</td>\n",
       "    </tr>\n",
       "  </tbody>\n",
       "</table>\n",
       "</div>"
      ],
      "text/plain": [
       "              Salary    Children     Catalogs  AmountSpent      Cust_Id\n",
       "count    1000.000000  1000.00000  1000.000000  1000.000000  1000.000000\n",
       "mean    56103.900000     0.93400    14.682000  1216.770000   643.930000\n",
       "std     30616.314826     1.05107     6.622895   961.068613   369.047166\n",
       "min     10100.000000     0.00000     6.000000    38.000000    12.000000\n",
       "25%     29975.000000     0.00000     6.000000   488.250000   316.750000\n",
       "50%     53700.000000     1.00000    12.000000   962.000000   636.000000\n",
       "75%     77025.000000     2.00000    18.000000  1688.500000   955.500000\n",
       "max    168800.000000     3.00000    24.000000  6217.000000  1297.000000"
      ]
     },
     "execution_count": 7,
     "metadata": {},
     "output_type": "execute_result"
    }
   ],
   "source": [
    "data.describe()"
   ]
  },
  {
   "cell_type": "code",
   "execution_count": 8,
   "metadata": {},
   "outputs": [],
   "source": [
    "# cateogrizing the data in to target and ordinary data.\n",
    "data[\"target\"]= data[\"AmountSpent\"].map(lambda x: 1 if x>data[\"AmountSpent\"].mean() else 0)"
   ]
  },
  {
   "cell_type": "code",
   "execution_count": 9,
   "metadata": {},
   "outputs": [],
   "source": [
    "#dropping the AmountSpent columns as we now have the target column\n",
    "data= data.drop(\"AmountSpent\", axis=1)"
   ]
  },
  {
   "cell_type": "code",
   "execution_count": 10,
   "metadata": {},
   "outputs": [
    {
     "data": {
      "text/html": [
       "<div>\n",
       "<style scoped>\n",
       "    .dataframe tbody tr th:only-of-type {\n",
       "        vertical-align: middle;\n",
       "    }\n",
       "\n",
       "    .dataframe tbody tr th {\n",
       "        vertical-align: top;\n",
       "    }\n",
       "\n",
       "    .dataframe thead th {\n",
       "        text-align: right;\n",
       "    }\n",
       "</style>\n",
       "<table border=\"1\" class=\"dataframe\">\n",
       "  <thead>\n",
       "    <tr style=\"text-align: right;\">\n",
       "      <th></th>\n",
       "      <th>Age</th>\n",
       "      <th>Gender</th>\n",
       "      <th>OwnHome</th>\n",
       "      <th>Married</th>\n",
       "      <th>Location</th>\n",
       "      <th>Salary</th>\n",
       "      <th>Children</th>\n",
       "      <th>History</th>\n",
       "      <th>Catalogs</th>\n",
       "      <th>Cust_Id</th>\n",
       "      <th>target</th>\n",
       "    </tr>\n",
       "  </thead>\n",
       "  <tbody>\n",
       "    <tr>\n",
       "      <th>0</th>\n",
       "      <td>Old</td>\n",
       "      <td>Female</td>\n",
       "      <td>Own</td>\n",
       "      <td>Single</td>\n",
       "      <td>Far</td>\n",
       "      <td>47500</td>\n",
       "      <td>0</td>\n",
       "      <td>High</td>\n",
       "      <td>6</td>\n",
       "      <td>247</td>\n",
       "      <td>0</td>\n",
       "    </tr>\n",
       "    <tr>\n",
       "      <th>1</th>\n",
       "      <td>Middle</td>\n",
       "      <td>Male</td>\n",
       "      <td>Rent</td>\n",
       "      <td>Single</td>\n",
       "      <td>Close</td>\n",
       "      <td>63600</td>\n",
       "      <td>0</td>\n",
       "      <td>High</td>\n",
       "      <td>6</td>\n",
       "      <td>127</td>\n",
       "      <td>1</td>\n",
       "    </tr>\n",
       "    <tr>\n",
       "      <th>2</th>\n",
       "      <td>Young</td>\n",
       "      <td>Female</td>\n",
       "      <td>Rent</td>\n",
       "      <td>Single</td>\n",
       "      <td>Close</td>\n",
       "      <td>13500</td>\n",
       "      <td>0</td>\n",
       "      <td>Low</td>\n",
       "      <td>18</td>\n",
       "      <td>479</td>\n",
       "      <td>0</td>\n",
       "    </tr>\n",
       "    <tr>\n",
       "      <th>3</th>\n",
       "      <td>Middle</td>\n",
       "      <td>Male</td>\n",
       "      <td>Own</td>\n",
       "      <td>Married</td>\n",
       "      <td>Close</td>\n",
       "      <td>85600</td>\n",
       "      <td>1</td>\n",
       "      <td>High</td>\n",
       "      <td>18</td>\n",
       "      <td>475</td>\n",
       "      <td>1</td>\n",
       "    </tr>\n",
       "    <tr>\n",
       "      <th>4</th>\n",
       "      <td>Middle</td>\n",
       "      <td>Female</td>\n",
       "      <td>Own</td>\n",
       "      <td>Single</td>\n",
       "      <td>Close</td>\n",
       "      <td>68400</td>\n",
       "      <td>0</td>\n",
       "      <td>High</td>\n",
       "      <td>12</td>\n",
       "      <td>151</td>\n",
       "      <td>1</td>\n",
       "    </tr>\n",
       "  </tbody>\n",
       "</table>\n",
       "</div>"
      ],
      "text/plain": [
       "      Age  Gender OwnHome  Married Location  Salary  Children History  \\\n",
       "0     Old  Female     Own   Single      Far   47500         0    High   \n",
       "1  Middle    Male    Rent   Single    Close   63600         0    High   \n",
       "2   Young  Female    Rent   Single    Close   13500         0     Low   \n",
       "3  Middle    Male     Own  Married    Close   85600         1    High   \n",
       "4  Middle  Female     Own   Single    Close   68400         0    High   \n",
       "\n",
       "   Catalogs  Cust_Id  target  \n",
       "0         6      247       0  \n",
       "1         6      127       1  \n",
       "2        18      479       0  \n",
       "3        18      475       1  \n",
       "4        12      151       1  "
      ]
     },
     "execution_count": 10,
     "metadata": {},
     "output_type": "execute_result"
    }
   ],
   "source": [
    "data.head()"
   ]
  },
  {
   "cell_type": "code",
   "execution_count": 11,
   "metadata": {},
   "outputs": [
    {
     "data": {
      "text/plain": [
       "High      255\n",
       "Low       230\n",
       "Medium    212\n",
       "Name: History, dtype: int64"
      ]
     },
     "execution_count": 11,
     "metadata": {},
     "output_type": "execute_result"
    }
   ],
   "source": [
    "data[\"History\"].value_counts()"
   ]
  },
  {
   "cell_type": "code",
   "execution_count": 14,
   "metadata": {},
   "outputs": [
    {
     "data": {
      "text/plain": [
       "303"
      ]
     },
     "execution_count": 14,
     "metadata": {},
     "output_type": "execute_result"
    }
   ],
   "source": [
    "data[\"History\"].isnull().sum()"
   ]
  },
  {
   "cell_type": "code",
   "execution_count": 15,
   "metadata": {},
   "outputs": [],
   "source": [
    "## minimal data prep\n",
    "data[\"History\"]= data[\"History\"].fillna(\"NewCust\")"
   ]
  },
  {
   "cell_type": "code",
   "execution_count": 16,
   "metadata": {},
   "outputs": [
    {
     "data": {
      "text/html": [
       "<div>\n",
       "<style scoped>\n",
       "    .dataframe tbody tr th:only-of-type {\n",
       "        vertical-align: middle;\n",
       "    }\n",
       "\n",
       "    .dataframe tbody tr th {\n",
       "        vertical-align: top;\n",
       "    }\n",
       "\n",
       "    .dataframe thead th {\n",
       "        text-align: right;\n",
       "    }\n",
       "</style>\n",
       "<table border=\"1\" class=\"dataframe\">\n",
       "  <thead>\n",
       "    <tr style=\"text-align: right;\">\n",
       "      <th></th>\n",
       "      <th>Salary</th>\n",
       "      <th>Children</th>\n",
       "      <th>Catalogs</th>\n",
       "      <th>Cust_Id</th>\n",
       "      <th>target</th>\n",
       "    </tr>\n",
       "  </thead>\n",
       "  <tbody>\n",
       "    <tr>\n",
       "      <th>count</th>\n",
       "      <td>1000.000000</td>\n",
       "      <td>1000.00000</td>\n",
       "      <td>1000.000000</td>\n",
       "      <td>1000.000000</td>\n",
       "      <td>1000.000000</td>\n",
       "    </tr>\n",
       "    <tr>\n",
       "      <th>mean</th>\n",
       "      <td>56103.900000</td>\n",
       "      <td>0.93400</td>\n",
       "      <td>14.682000</td>\n",
       "      <td>643.930000</td>\n",
       "      <td>0.399000</td>\n",
       "    </tr>\n",
       "    <tr>\n",
       "      <th>std</th>\n",
       "      <td>30616.314826</td>\n",
       "      <td>1.05107</td>\n",
       "      <td>6.622895</td>\n",
       "      <td>369.047166</td>\n",
       "      <td>0.489938</td>\n",
       "    </tr>\n",
       "    <tr>\n",
       "      <th>min</th>\n",
       "      <td>10100.000000</td>\n",
       "      <td>0.00000</td>\n",
       "      <td>6.000000</td>\n",
       "      <td>12.000000</td>\n",
       "      <td>0.000000</td>\n",
       "    </tr>\n",
       "    <tr>\n",
       "      <th>25%</th>\n",
       "      <td>29975.000000</td>\n",
       "      <td>0.00000</td>\n",
       "      <td>6.000000</td>\n",
       "      <td>316.750000</td>\n",
       "      <td>0.000000</td>\n",
       "    </tr>\n",
       "    <tr>\n",
       "      <th>50%</th>\n",
       "      <td>53700.000000</td>\n",
       "      <td>1.00000</td>\n",
       "      <td>12.000000</td>\n",
       "      <td>636.000000</td>\n",
       "      <td>0.000000</td>\n",
       "    </tr>\n",
       "    <tr>\n",
       "      <th>75%</th>\n",
       "      <td>77025.000000</td>\n",
       "      <td>2.00000</td>\n",
       "      <td>18.000000</td>\n",
       "      <td>955.500000</td>\n",
       "      <td>1.000000</td>\n",
       "    </tr>\n",
       "    <tr>\n",
       "      <th>max</th>\n",
       "      <td>168800.000000</td>\n",
       "      <td>3.00000</td>\n",
       "      <td>24.000000</td>\n",
       "      <td>1297.000000</td>\n",
       "      <td>1.000000</td>\n",
       "    </tr>\n",
       "  </tbody>\n",
       "</table>\n",
       "</div>"
      ],
      "text/plain": [
       "              Salary    Children     Catalogs      Cust_Id       target\n",
       "count    1000.000000  1000.00000  1000.000000  1000.000000  1000.000000\n",
       "mean    56103.900000     0.93400    14.682000   643.930000     0.399000\n",
       "std     30616.314826     1.05107     6.622895   369.047166     0.489938\n",
       "min     10100.000000     0.00000     6.000000    12.000000     0.000000\n",
       "25%     29975.000000     0.00000     6.000000   316.750000     0.000000\n",
       "50%     53700.000000     1.00000    12.000000   636.000000     0.000000\n",
       "75%     77025.000000     2.00000    18.000000   955.500000     1.000000\n",
       "max    168800.000000     3.00000    24.000000  1297.000000     1.000000"
      ]
     },
     "execution_count": 16,
     "metadata": {},
     "output_type": "execute_result"
    }
   ],
   "source": [
    "data.describe()"
   ]
  },
  {
   "cell_type": "code",
   "execution_count": 21,
   "metadata": {},
   "outputs": [
    {
     "data": {
      "text/plain": [
       "0"
      ]
     },
     "execution_count": 21,
     "metadata": {},
     "output_type": "execute_result"
    }
   ],
   "source": [
    "data[\"History\"].isnull().sum()"
   ]
  },
  {
   "cell_type": "code",
   "execution_count": null,
   "metadata": {},
   "outputs": [],
   "source": []
  },
  {
   "cell_type": "code",
   "execution_count": null,
   "metadata": {},
   "outputs": [],
   "source": []
  },
  {
   "cell_type": "code",
   "execution_count": 22,
   "metadata": {},
   "outputs": [],
   "source": [
    "## Build Model\n",
    "import statsmodels.formula.api as smf\n",
    "import statsmodels.api as sm"
   ]
  },
  {
   "cell_type": "code",
   "execution_count": 20,
   "metadata": {},
   "outputs": [],
   "source": [
    "data_train=data.sample(frac=0.70,random_state=200)\n",
    "data_test=data.drop(data_train.index)"
   ]
  },
  {
   "cell_type": "code",
   "execution_count": 23,
   "metadata": {},
   "outputs": [],
   "source": [
    "model1=smf.glm(\"target~C(Age)+C(Gender)+C(OwnHome)+C(Married)+C(Location)+Salary+Children+C(History)+Catalogs\",data=data_train,\n",
    "              family=sm.families.Binomial()).fit()"
   ]
  },
  {
   "cell_type": "code",
   "execution_count": 24,
   "metadata": {},
   "outputs": [
    {
     "name": "stdout",
     "output_type": "stream",
     "text": [
      "                 Generalized Linear Model Regression Results                  \n",
      "==============================================================================\n",
      "Dep. Variable:                 target   No. Observations:                  700\n",
      "Model:                            GLM   Df Residuals:                      687\n",
      "Model Family:                Binomial   Df Model:                           12\n",
      "Link Function:                  logit   Scale:                          1.0000\n",
      "Method:                          IRLS   Log-Likelihood:                -166.95\n",
      "Date:                Tue, 06 Oct 2020   Deviance:                       333.91\n",
      "Time:                        13:43:24   Pearson chi2:                     399.\n",
      "No. Iterations:                    24                                         \n",
      "Covariance Type:            nonrobust                                         \n",
      "=========================================================================================\n",
      "                            coef    std err          z      P>|z|      [0.025      0.975]\n",
      "-----------------------------------------------------------------------------------------\n",
      "Intercept                -5.8262      1.187     -4.907      0.000      -8.153      -3.499\n",
      "C(Age)[T.Old]            -0.1518      0.438     -0.347      0.729      -1.011       0.707\n",
      "C(Age)[T.Young]          -1.1257      0.464     -2.428      0.015      -2.034      -0.217\n",
      "C(Gender)[T.Male]         0.2646      0.292      0.906      0.365      -0.308       0.837\n",
      "C(OwnHome)[T.Rent]       -0.1128      0.328     -0.344      0.731      -0.756       0.531\n",
      "C(Married)[T.Single]     -0.5255      0.378     -1.389      0.165      -1.267       0.216\n",
      "C(Location)[T.Far]        1.2980      0.357      3.636      0.000       0.598       1.998\n",
      "C(History)[T.Low]       -25.0771   1.33e+04     -0.002      0.998   -2.61e+04     2.6e+04\n",
      "C(History)[T.Medium]     -2.1212      0.439     -4.836      0.000      -2.981      -1.261\n",
      "C(History)[T.NewCust]     0.3137      0.428      0.734      0.463      -0.525       1.152\n",
      "Salary                 5.682e-05   1.11e-05      5.105      0.000     3.5e-05    7.86e-05\n",
      "Children                 -0.6097      0.184     -3.322      0.001      -0.969      -0.250\n",
      "Catalogs                  0.2193      0.026      8.397      0.000       0.168       0.270\n",
      "=========================================================================================\n"
     ]
    }
   ],
   "source": [
    "print(model1.summary())"
   ]
  },
  {
   "cell_type": "code",
   "execution_count": 25,
   "metadata": {},
   "outputs": [],
   "source": [
    "## Variables to exclude\n",
    "#Age\n",
    "#Gender\n",
    "#Ownhome\n",
    "#Married\n",
    "## Variables for dummy creation\n",
    "#Hist_Low\n",
    "#Hist_Medium\n",
    "data_train['Hist_Med']=data_train['History'].map(lambda x: 1 if x==\"Medium\" else 0)\n",
    "data_test['Hist_Med']=data_test['History'].map(lambda x: 1 if x==\"Medium\" else 0)"
   ]
  },
  {
   "cell_type": "code",
   "execution_count": 26,
   "metadata": {},
   "outputs": [],
   "source": [
    "model2=smf.glm(\"target~Children+Catalogs+Salary+Hist_Med\",data=data_train,\n",
    "              family=sm.families.Binomial()).fit()"
   ]
  },
  {
   "cell_type": "code",
   "execution_count": 27,
   "metadata": {},
   "outputs": [
    {
     "name": "stdout",
     "output_type": "stream",
     "text": [
      "                 Generalized Linear Model Regression Results                  \n",
      "==============================================================================\n",
      "Dep. Variable:                 target   No. Observations:                  700\n",
      "Model:                            GLM   Df Residuals:                      695\n",
      "Model Family:                Binomial   Df Model:                            4\n",
      "Link Function:                  logit   Scale:                          1.0000\n",
      "Method:                          IRLS   Log-Likelihood:                -219.08\n",
      "Date:                Tue, 06 Oct 2020   Deviance:                       438.16\n",
      "Time:                        13:50:29   Pearson chi2:                     641.\n",
      "No. Iterations:                     6                                         \n",
      "Covariance Type:            nonrobust                                         \n",
      "==============================================================================\n",
      "                 coef    std err          z      P>|z|      [0.025      0.975]\n",
      "------------------------------------------------------------------------------\n",
      "Intercept     -6.4955      0.556    -11.688      0.000      -7.585      -5.406\n",
      "Children      -0.9469      0.132     -7.185      0.000      -1.205      -0.689\n",
      "Catalogs       0.1913      0.021      8.935      0.000       0.149       0.233\n",
      "Salary      7.313e-05   5.95e-06     12.300      0.000    6.15e-05    8.48e-05\n",
      "Hist_Med      -1.6554      0.288     -5.740      0.000      -2.221      -1.090\n",
      "==============================================================================\n"
     ]
    }
   ],
   "source": [
    "print(model2.summary())"
   ]
  },
  {
   "cell_type": "code",
   "execution_count": 33,
   "metadata": {},
   "outputs": [],
   "source": [
    "## Let's check confusion matrix and AUC\n",
    "import sklearn.metrics as metrics"
   ]
  },
  {
   "cell_type": "code",
   "execution_count": 29,
   "metadata": {},
   "outputs": [],
   "source": [
    "y_true=data_test['target']\n",
    "y_pred=model2.predict(data_test)"
   ]
  },
  {
   "cell_type": "code",
   "execution_count": 31,
   "metadata": {},
   "outputs": [
    {
     "data": {
      "text/plain": [
       "0     0.133072\n",
       "2     0.112537\n",
       "6     0.088037\n",
       "7     0.875422\n",
       "10    0.124423\n",
       "dtype: float64"
      ]
     },
     "execution_count": 31,
     "metadata": {},
     "output_type": "execute_result"
    }
   ],
   "source": [
    "y_pred.head()"
   ]
  },
  {
   "cell_type": "code",
   "execution_count": 32,
   "metadata": {},
   "outputs": [
    {
     "data": {
      "text/plain": [
       "array([[159,  15],\n",
       "       [ 20, 106]], dtype=int64)"
      ]
     },
     "execution_count": 32,
     "metadata": {},
     "output_type": "execute_result"
    }
   ],
   "source": [
    "y_true=data_test['target']\n",
    "y_pred=model2.predict(data_test).map(lambda x:1 if x>0.5 else 0)\n",
    "metrics.confusion_matrix(y_true,y_pred)\n",
    "\n",
    "# error of 20 and 15 customers as Type 1 and Type 2 errors."
   ]
  },
  {
   "cell_type": "code",
   "execution_count": 34,
   "metadata": {},
   "outputs": [],
   "source": [
    "## ROC curve\n",
    "y_score=model2.predict(data_test)\n",
    "fpr,tpr,thresholds=metrics.roc_curve(y_true,y_score)\n",
    "x,y=np.arange(0,1.1,0.1),np.arange(0,1.1,0.1)"
   ]
  },
  {
   "cell_type": "code",
   "execution_count": 35,
   "metadata": {},
   "outputs": [
    {
     "data": {
      "text/plain": [
       "[<matplotlib.lines.Line2D at 0x20d0c2abe88>]"
      ]
     },
     "execution_count": 35,
     "metadata": {},
     "output_type": "execute_result"
    },
    {
     "data": {
      "image/png": "[encoded data removed]",
      "text/plain": [
       "<Figure size 432x288 with 1 Axes>"
      ]
     },
     "metadata": {
      "needs_background": "light"
     },
     "output_type": "display_data"
    }
   ],
   "source": [
    "plt.plot(fpr,tpr,\"-\")\n",
    "plt.plot(x,y,'b--')"
   ]
  },
  {
   "cell_type": "code",
   "execution_count": 36,
   "metadata": {},
   "outputs": [
    {
     "data": {
      "text/plain": [
       "0.9516967706622879"
      ]
     },
     "execution_count": 36,
     "metadata": {},
     "output_type": "execute_result"
    }
   ],
   "source": [
    "## AUC\n",
    "metrics.roc_auc_score(y_true,y_score)"
   ]
  },
  {
   "cell_type": "code",
   "execution_count": 37,
   "metadata": {},
   "outputs": [],
   "source": [
    "## Gains\n",
    "data_test['prob']=model2.predict(data_test)"
   ]
  },
  {
   "cell_type": "code",
   "execution_count": 38,
   "metadata": {},
   "outputs": [
    {
     "data": {
      "text/plain": [
       "0     0.133072\n",
       "2     0.112537\n",
       "6     0.088037\n",
       "7     0.875422\n",
       "10    0.124423\n",
       "Name: prob, dtype: float64"
      ]
     },
     "execution_count": 38,
     "metadata": {},
     "output_type": "execute_result"
    }
   ],
   "source": [
    "data_test['prob'].head()"
   ]
  },
  {
   "cell_type": "code",
   "execution_count": 39,
   "metadata": {},
   "outputs": [],
   "source": [
    "data_test['prob_deciles']=pd.qcut(data_test['prob'],q=10)"
   ]
  },
  {
   "cell_type": "code",
   "execution_count": 40,
   "metadata": {},
   "outputs": [
    {
     "data": {
      "text/html": [
       "<div>\n",
       "<style scoped>\n",
       "    .dataframe tbody tr th:only-of-type {\n",
       "        vertical-align: middle;\n",
       "    }\n",
       "\n",
       "    .dataframe tbody tr th {\n",
       "        vertical-align: top;\n",
       "    }\n",
       "\n",
       "    .dataframe thead th {\n",
       "        text-align: right;\n",
       "    }\n",
       "</style>\n",
       "<table border=\"1\" class=\"dataframe\">\n",
       "  <thead>\n",
       "    <tr style=\"text-align: right;\">\n",
       "      <th></th>\n",
       "      <th>Age</th>\n",
       "      <th>Gender</th>\n",
       "      <th>OwnHome</th>\n",
       "      <th>Married</th>\n",
       "      <th>Location</th>\n",
       "      <th>Salary</th>\n",
       "      <th>Children</th>\n",
       "      <th>History</th>\n",
       "      <th>Catalogs</th>\n",
       "      <th>Cust_Id</th>\n",
       "      <th>target</th>\n",
       "      <th>Hist_Med</th>\n",
       "      <th>prob</th>\n",
       "      <th>prob_deciles</th>\n",
       "    </tr>\n",
       "  </thead>\n",
       "  <tbody>\n",
       "    <tr>\n",
       "      <th>0</th>\n",
       "      <td>Old</td>\n",
       "      <td>Female</td>\n",
       "      <td>Own</td>\n",
       "      <td>Single</td>\n",
       "      <td>Far</td>\n",
       "      <td>47500</td>\n",
       "      <td>0</td>\n",
       "      <td>High</td>\n",
       "      <td>6</td>\n",
       "      <td>247</td>\n",
       "      <td>0</td>\n",
       "      <td>0</td>\n",
       "      <td>0.133072</td>\n",
       "      <td>(0.107, 0.24]</td>\n",
       "    </tr>\n",
       "    <tr>\n",
       "      <th>2</th>\n",
       "      <td>Young</td>\n",
       "      <td>Female</td>\n",
       "      <td>Rent</td>\n",
       "      <td>Single</td>\n",
       "      <td>Close</td>\n",
       "      <td>13500</td>\n",
       "      <td>0</td>\n",
       "      <td>Low</td>\n",
       "      <td>18</td>\n",
       "      <td>479</td>\n",
       "      <td>0</td>\n",
       "      <td>0</td>\n",
       "      <td>0.112537</td>\n",
       "      <td>(0.107, 0.24]</td>\n",
       "    </tr>\n",
       "    <tr>\n",
       "      <th>6</th>\n",
       "      <td>Middle</td>\n",
       "      <td>Female</td>\n",
       "      <td>Rent</td>\n",
       "      <td>Single</td>\n",
       "      <td>Close</td>\n",
       "      <td>48100</td>\n",
       "      <td>0</td>\n",
       "      <td>Medium</td>\n",
       "      <td>12</td>\n",
       "      <td>804</td>\n",
       "      <td>0</td>\n",
       "      <td>1</td>\n",
       "      <td>0.088037</td>\n",
       "      <td>(0.0507, 0.107]</td>\n",
       "    </tr>\n",
       "    <tr>\n",
       "      <th>7</th>\n",
       "      <td>Middle</td>\n",
       "      <td>Male</td>\n",
       "      <td>Own</td>\n",
       "      <td>Single</td>\n",
       "      <td>Close</td>\n",
       "      <td>68400</td>\n",
       "      <td>0</td>\n",
       "      <td>High</td>\n",
       "      <td>18</td>\n",
       "      <td>790</td>\n",
       "      <td>0</td>\n",
       "      <td>0</td>\n",
       "      <td>0.875422</td>\n",
       "      <td>(0.754, 0.898]</td>\n",
       "    </tr>\n",
       "    <tr>\n",
       "      <th>10</th>\n",
       "      <td>Young</td>\n",
       "      <td>Male</td>\n",
       "      <td>Rent</td>\n",
       "      <td>Married</td>\n",
       "      <td>Close</td>\n",
       "      <td>43700</td>\n",
       "      <td>1</td>\n",
       "      <td>NewCust</td>\n",
       "      <td>12</td>\n",
       "      <td>157</td>\n",
       "      <td>0</td>\n",
       "      <td>0</td>\n",
       "      <td>0.124423</td>\n",
       "      <td>(0.107, 0.24]</td>\n",
       "    </tr>\n",
       "  </tbody>\n",
       "</table>\n",
       "</div>"
      ],
      "text/plain": [
       "       Age  Gender OwnHome  Married Location  Salary  Children  History  \\\n",
       "0      Old  Female     Own   Single      Far   47500         0     High   \n",
       "2    Young  Female    Rent   Single    Close   13500         0      Low   \n",
       "6   Middle  Female    Rent   Single    Close   48100         0   Medium   \n",
       "7   Middle    Male     Own   Single    Close   68400         0     High   \n",
       "10   Young    Male    Rent  Married    Close   43700         1  NewCust   \n",
       "\n",
       "    Catalogs  Cust_Id  target  Hist_Med      prob     prob_deciles  \n",
       "0          6      247       0         0  0.133072    (0.107, 0.24]  \n",
       "2         18      479       0         0  0.112537    (0.107, 0.24]  \n",
       "6         12      804       0         1  0.088037  (0.0507, 0.107]  \n",
       "7         18      790       0         0  0.875422   (0.754, 0.898]  \n",
       "10        12      157       0         0  0.124423    (0.107, 0.24]  "
      ]
     },
     "execution_count": 40,
     "metadata": {},
     "output_type": "execute_result"
    }
   ],
   "source": [
    "data_test.head()"
   ]
  },
  {
   "cell_type": "code",
   "execution_count": 41,
   "metadata": {},
   "outputs": [
    {
     "data": {
      "text/html": [
       "<div>\n",
       "<style scoped>\n",
       "    .dataframe tbody tr th:only-of-type {\n",
       "        vertical-align: middle;\n",
       "    }\n",
       "\n",
       "    .dataframe tbody tr th {\n",
       "        vertical-align: top;\n",
       "    }\n",
       "\n",
       "    .dataframe thead th {\n",
       "        text-align: right;\n",
       "    }\n",
       "</style>\n",
       "<table border=\"1\" class=\"dataframe\">\n",
       "  <thead>\n",
       "    <tr style=\"text-align: right;\">\n",
       "      <th></th>\n",
       "      <th>Age</th>\n",
       "      <th>Gender</th>\n",
       "      <th>OwnHome</th>\n",
       "      <th>Married</th>\n",
       "      <th>Location</th>\n",
       "      <th>Salary</th>\n",
       "      <th>Children</th>\n",
       "      <th>History</th>\n",
       "      <th>Catalogs</th>\n",
       "      <th>Cust_Id</th>\n",
       "      <th>target</th>\n",
       "      <th>Hist_Med</th>\n",
       "      <th>prob</th>\n",
       "      <th>prob_deciles</th>\n",
       "    </tr>\n",
       "  </thead>\n",
       "  <tbody>\n",
       "    <tr>\n",
       "      <th>901</th>\n",
       "      <td>Old</td>\n",
       "      <td>Female</td>\n",
       "      <td>Own</td>\n",
       "      <td>Married</td>\n",
       "      <td>Far</td>\n",
       "      <td>128700</td>\n",
       "      <td>0</td>\n",
       "      <td>High</td>\n",
       "      <td>24</td>\n",
       "      <td>1164</td>\n",
       "      <td>1</td>\n",
       "      <td>0</td>\n",
       "      <td>0.999451</td>\n",
       "      <td>(0.965, 0.999]</td>\n",
       "    </tr>\n",
       "    <tr>\n",
       "      <th>386</th>\n",
       "      <td>Old</td>\n",
       "      <td>Male</td>\n",
       "      <td>Own</td>\n",
       "      <td>Married</td>\n",
       "      <td>Close</td>\n",
       "      <td>123000</td>\n",
       "      <td>0</td>\n",
       "      <td>High</td>\n",
       "      <td>24</td>\n",
       "      <td>584</td>\n",
       "      <td>1</td>\n",
       "      <td>0</td>\n",
       "      <td>0.999168</td>\n",
       "      <td>(0.965, 0.999]</td>\n",
       "    </tr>\n",
       "    <tr>\n",
       "      <th>928</th>\n",
       "      <td>Old</td>\n",
       "      <td>Male</td>\n",
       "      <td>Own</td>\n",
       "      <td>Married</td>\n",
       "      <td>Close</td>\n",
       "      <td>168800</td>\n",
       "      <td>0</td>\n",
       "      <td>High</td>\n",
       "      <td>6</td>\n",
       "      <td>1286</td>\n",
       "      <td>1</td>\n",
       "      <td>0</td>\n",
       "      <td>0.999086</td>\n",
       "      <td>(0.965, 0.999]</td>\n",
       "    </tr>\n",
       "    <tr>\n",
       "      <th>216</th>\n",
       "      <td>Middle</td>\n",
       "      <td>Female</td>\n",
       "      <td>Rent</td>\n",
       "      <td>Married</td>\n",
       "      <td>Far</td>\n",
       "      <td>120800</td>\n",
       "      <td>1</td>\n",
       "      <td>High</td>\n",
       "      <td>24</td>\n",
       "      <td>1227</td>\n",
       "      <td>1</td>\n",
       "      <td>0</td>\n",
       "      <td>0.997484</td>\n",
       "      <td>(0.965, 0.999]</td>\n",
       "    </tr>\n",
       "    <tr>\n",
       "      <th>504</th>\n",
       "      <td>Old</td>\n",
       "      <td>Female</td>\n",
       "      <td>Own</td>\n",
       "      <td>Married</td>\n",
       "      <td>Close</td>\n",
       "      <td>118800</td>\n",
       "      <td>0</td>\n",
       "      <td>High</td>\n",
       "      <td>18</td>\n",
       "      <td>1276</td>\n",
       "      <td>1</td>\n",
       "      <td>0</td>\n",
       "      <td>0.996444</td>\n",
       "      <td>(0.965, 0.999]</td>\n",
       "    </tr>\n",
       "  </tbody>\n",
       "</table>\n",
       "</div>"
      ],
      "text/plain": [
       "        Age  Gender OwnHome  Married Location  Salary  Children History  \\\n",
       "901     Old  Female     Own  Married      Far  128700         0    High   \n",
       "386     Old    Male     Own  Married    Close  123000         0    High   \n",
       "928     Old    Male     Own  Married    Close  168800         0    High   \n",
       "216  Middle  Female    Rent  Married      Far  120800         1    High   \n",
       "504     Old  Female     Own  Married    Close  118800         0    High   \n",
       "\n",
       "     Catalogs  Cust_Id  target  Hist_Med      prob    prob_deciles  \n",
       "901        24     1164       1         0  0.999451  (0.965, 0.999]  \n",
       "386        24      584       1         0  0.999168  (0.965, 0.999]  \n",
       "928         6     1286       1         0  0.999086  (0.965, 0.999]  \n",
       "216        24     1227       1         0  0.997484  (0.965, 0.999]  \n",
       "504        18     1276       1         0  0.996444  (0.965, 0.999]  "
      ]
     },
     "execution_count": 41,
     "metadata": {},
     "output_type": "execute_result"
    }
   ],
   "source": [
    "data_test.sort_values('prob',ascending=False).head()"
   ]
  },
  {
   "cell_type": "code",
   "execution_count": 42,
   "metadata": {},
   "outputs": [],
   "source": [
    "gains=data_test.groupby(\"prob_deciles\",as_index=False)['target'].agg(['sum','count']).reset_index().sort_values(\"prob_deciles\",\n",
    "                 ascending=False)"
   ]
  },
  {
   "cell_type": "code",
   "execution_count": 43,
   "metadata": {},
   "outputs": [],
   "source": [
    "gains.columns=[\"Deciles\",\"TotalEvents\",\"NumberObs\"]"
   ]
  },
  {
   "cell_type": "code",
   "execution_count": 44,
   "metadata": {},
   "outputs": [],
   "source": [
    "gains[\"PercEvents\"]=gains['TotalEvents']/gains['TotalEvents'].sum()"
   ]
  },
  {
   "cell_type": "code",
   "execution_count": 45,
   "metadata": {},
   "outputs": [],
   "source": [
    "gains[\"CumulativeEvents\"]=gains.PercEvents.cumsum()"
   ]
  },
  {
   "cell_type": "code",
   "execution_count": 46,
   "metadata": {},
   "outputs": [
    {
     "data": {
      "text/html": [
       "<div>\n",
       "<style scoped>\n",
       "    .dataframe tbody tr th:only-of-type {\n",
       "        vertical-align: middle;\n",
       "    }\n",
       "\n",
       "    .dataframe tbody tr th {\n",
       "        vertical-align: top;\n",
       "    }\n",
       "\n",
       "    .dataframe thead th {\n",
       "        text-align: right;\n",
       "    }\n",
       "</style>\n",
       "<table border=\"1\" class=\"dataframe\">\n",
       "  <thead>\n",
       "    <tr style=\"text-align: right;\">\n",
       "      <th></th>\n",
       "      <th>Deciles</th>\n",
       "      <th>TotalEvents</th>\n",
       "      <th>NumberObs</th>\n",
       "      <th>PercEvents</th>\n",
       "      <th>CumulativeEvents</th>\n",
       "    </tr>\n",
       "  </thead>\n",
       "  <tbody>\n",
       "    <tr>\n",
       "      <th>9</th>\n",
       "      <td>(0.965, 0.999]</td>\n",
       "      <td>30</td>\n",
       "      <td>30</td>\n",
       "      <td>0.238095</td>\n",
       "      <td>0.238095</td>\n",
       "    </tr>\n",
       "    <tr>\n",
       "      <th>8</th>\n",
       "      <td>(0.898, 0.965]</td>\n",
       "      <td>29</td>\n",
       "      <td>30</td>\n",
       "      <td>0.230159</td>\n",
       "      <td>0.468254</td>\n",
       "    </tr>\n",
       "    <tr>\n",
       "      <th>7</th>\n",
       "      <td>(0.754, 0.898]</td>\n",
       "      <td>24</td>\n",
       "      <td>30</td>\n",
       "      <td>0.190476</td>\n",
       "      <td>0.658730</td>\n",
       "    </tr>\n",
       "    <tr>\n",
       "      <th>6</th>\n",
       "      <td>(0.515, 0.754]</td>\n",
       "      <td>23</td>\n",
       "      <td>30</td>\n",
       "      <td>0.182540</td>\n",
       "      <td>0.841270</td>\n",
       "    </tr>\n",
       "    <tr>\n",
       "      <th>5</th>\n",
       "      <td>(0.24, 0.515]</td>\n",
       "      <td>11</td>\n",
       "      <td>30</td>\n",
       "      <td>0.087302</td>\n",
       "      <td>0.928571</td>\n",
       "    </tr>\n",
       "    <tr>\n",
       "      <th>4</th>\n",
       "      <td>(0.107, 0.24]</td>\n",
       "      <td>7</td>\n",
       "      <td>30</td>\n",
       "      <td>0.055556</td>\n",
       "      <td>0.984127</td>\n",
       "    </tr>\n",
       "    <tr>\n",
       "      <th>3</th>\n",
       "      <td>(0.0507, 0.107]</td>\n",
       "      <td>1</td>\n",
       "      <td>30</td>\n",
       "      <td>0.007937</td>\n",
       "      <td>0.992063</td>\n",
       "    </tr>\n",
       "    <tr>\n",
       "      <th>2</th>\n",
       "      <td>(0.026, 0.0507]</td>\n",
       "      <td>0</td>\n",
       "      <td>30</td>\n",
       "      <td>0.000000</td>\n",
       "      <td>0.992063</td>\n",
       "    </tr>\n",
       "    <tr>\n",
       "      <th>1</th>\n",
       "      <td>(0.0108, 0.026]</td>\n",
       "      <td>1</td>\n",
       "      <td>30</td>\n",
       "      <td>0.007937</td>\n",
       "      <td>1.000000</td>\n",
       "    </tr>\n",
       "    <tr>\n",
       "      <th>0</th>\n",
       "      <td>(-0.000415, 0.0108]</td>\n",
       "      <td>0</td>\n",
       "      <td>30</td>\n",
       "      <td>0.000000</td>\n",
       "      <td>1.000000</td>\n",
       "    </tr>\n",
       "  </tbody>\n",
       "</table>\n",
       "</div>"
      ],
      "text/plain": [
       "               Deciles  TotalEvents  NumberObs  PercEvents  CumulativeEvents\n",
       "9       (0.965, 0.999]           30         30    0.238095          0.238095\n",
       "8       (0.898, 0.965]           29         30    0.230159          0.468254\n",
       "7       (0.754, 0.898]           24         30    0.190476          0.658730\n",
       "6       (0.515, 0.754]           23         30    0.182540          0.841270\n",
       "5        (0.24, 0.515]           11         30    0.087302          0.928571\n",
       "4        (0.107, 0.24]            7         30    0.055556          0.984127\n",
       "3      (0.0507, 0.107]            1         30    0.007937          0.992063\n",
       "2      (0.026, 0.0507]            0         30    0.000000          0.992063\n",
       "1      (0.0108, 0.026]            1         30    0.007937          1.000000\n",
       "0  (-0.000415, 0.0108]            0         30    0.000000          1.000000"
      ]
     },
     "execution_count": 46,
     "metadata": {},
     "output_type": "execute_result"
    }
   ],
   "source": [
    "gains"
   ]
  },
  {
   "cell_type": "code",
   "execution_count": 49,
   "metadata": {},
   "outputs": [
    {
     "data": {
      "text/html": [
       "<div>\n",
       "<style scoped>\n",
       "    .dataframe tbody tr th:only-of-type {\n",
       "        vertical-align: middle;\n",
       "    }\n",
       "\n",
       "    .dataframe tbody tr th {\n",
       "        vertical-align: top;\n",
       "    }\n",
       "\n",
       "    .dataframe thead th {\n",
       "        text-align: right;\n",
       "    }\n",
       "</style>\n",
       "<table border=\"1\" class=\"dataframe\">\n",
       "  <thead>\n",
       "    <tr style=\"text-align: right;\">\n",
       "      <th></th>\n",
       "      <th>Cust_Id</th>\n",
       "    </tr>\n",
       "  </thead>\n",
       "  <tbody>\n",
       "    <tr>\n",
       "      <th>901</th>\n",
       "      <td>1164</td>\n",
       "    </tr>\n",
       "    <tr>\n",
       "      <th>386</th>\n",
       "      <td>584</td>\n",
       "    </tr>\n",
       "    <tr>\n",
       "      <th>928</th>\n",
       "      <td>1286</td>\n",
       "    </tr>\n",
       "    <tr>\n",
       "      <th>216</th>\n",
       "      <td>1227</td>\n",
       "    </tr>\n",
       "    <tr>\n",
       "      <th>504</th>\n",
       "      <td>1276</td>\n",
       "    </tr>\n",
       "    <tr>\n",
       "      <th>...</th>\n",
       "      <td>...</td>\n",
       "    </tr>\n",
       "    <tr>\n",
       "      <th>774</th>\n",
       "      <td>209</td>\n",
       "    </tr>\n",
       "    <tr>\n",
       "      <th>429</th>\n",
       "      <td>341</td>\n",
       "    </tr>\n",
       "    <tr>\n",
       "      <th>363</th>\n",
       "      <td>137</td>\n",
       "    </tr>\n",
       "    <tr>\n",
       "      <th>333</th>\n",
       "      <td>801</td>\n",
       "    </tr>\n",
       "    <tr>\n",
       "      <th>567</th>\n",
       "      <td>806</td>\n",
       "    </tr>\n",
       "  </tbody>\n",
       "</table>\n",
       "<p>90 rows × 1 columns</p>\n",
       "</div>"
      ],
      "text/plain": [
       "     Cust_Id\n",
       "901     1164\n",
       "386      584\n",
       "928     1286\n",
       "216     1227\n",
       "504     1276\n",
       "..       ...\n",
       "774      209\n",
       "429      341\n",
       "363      137\n",
       "333      801\n",
       "567      806\n",
       "\n",
       "[90 rows x 1 columns]"
      ]
     },
     "execution_count": 49,
     "metadata": {},
     "output_type": "execute_result"
    }
   ],
   "source": [
    "data_test.sort_values(\"prob\",ascending=False)[['Cust_Id']].head(90)## These are the people to target"
   ]
  },
  {
   "cell_type": "code",
   "execution_count": null,
   "metadata": {},
   "outputs": [],
   "source": []
  }
 ],
 "metadata": {
  "kernelspec": {
   "display_name": "Python 3",
   "language": "python",
   "name": "python3"
  },
  "language_info": {
   "codemirror_mode": {
    "name": "ipython",
    "version": 3
   },
   "file_extension": ".py",
   "mimetype": "text/x-python",
   "name": "python",
   "nbconvert_exporter": "python",
   "pygments_lexer": "ipython3",
   "version": "3.7.6"
  }
 },
 "nbformat": 4,
 "nbformat_minor": 4
}
